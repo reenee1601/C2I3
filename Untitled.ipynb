{
 "cells": [
  {
   "cell_type": "code",
   "execution_count": 3,
   "id": "6c66c73b",
   "metadata": {},
   "outputs": [
    {
     "data": {
      "text/plain": [
       "'./test/soa.pdf'"
      ]
     },
     "execution_count": 3,
     "metadata": {},
     "output_type": "execute_result"
    }
   ],
   "source": [
    "process.env['NODE_DEV'] = 'TEST';\n",
    "const { \n",
    "    getTextractAnalysis, extractForms, extractTables, \n",
    "    fixTableHeaders, fixFormHeaders, getTableResults ,\n",
    "        getKeyValueMap, getKeyValueRelationship\n",
    "\n",
    "} = require('./john-package/index.js');\n",
    "const { readFileSync, writeFileSync } = require (\"fs\");\n",
    "\n",
    "filepath = './test/soa.pdf';"
   ]
  },
  {
   "cell_type": "code",
   "execution_count": 4,
   "id": "80c93b1c",
   "metadata": {},
   "outputs": [
    {
     "name": "stdout",
     "output_type": "stream",
     "text": [
      "uploading 1690016812289_soa.pdf\n"
     ]
    },
    {
     "data": {
      "text/plain": [
       "Promise { <pending> }"
      ]
     },
     "execution_count": 4,
     "metadata": {},
     "output_type": "execute_result"
    },
    {
     "name": "stdout",
     "output_type": "stream",
     "text": [
      "uploaded 1690016812289_soa.pdf\n",
      "uploaded 1690016812289_soa.pdf\n",
      "analysis done\n",
      "Success. Object deleted.\n",
      "deleted the file\n"
     ]
    }
   ],
   "source": [
    "async function hi() {\n",
    "    data = await getTextractAnalysis(filepath);\n",
    "    return data\n",
    "}\n",
    "\n",
    "data = hi()\n"
   ]
  },
  {
   "cell_type": "code",
   "execution_count": 5,
   "id": "f85815a7",
   "metadata": {},
   "outputs": [
    {
     "data": {
      "text/plain": [
       "{\n",
       "  tel: '6753 6888/9616 8108/9022 3818',\n",
       "  fax: '6757',\n",
       "  sgd: '153.01',\n",
       "  attn: 'Kelvin',\n",
       "  'statement period customer': '01/09/21 to 30/09/21',\n",
       "  'document no': 'T21-024331',\n",
       "  'accumulated balance': '153.01',\n",
       "  description: 'Order SO21-100512',\n",
       "  credit: '',\n",
       "  date: '10/09/21',\n",
       "  debit: '153.01'\n",
       "}"
      ]
     },
     "execution_count": 5,
     "metadata": {},
     "output_type": "execute_result"
    }
   ],
   "source": [
    "a = getKeyValueMap(data.Blocks);\n",
    "keyValues = getKeyValueRelationship(a.keyMap, a.valueMap, a.blockMap);\n",
    "\n",
    "// tab = getTableResults(data)"
   ]
  },
  {
   "cell_type": "code",
   "execution_count": null,
   "id": "3a2aa637",
   "metadata": {},
   "outputs": [],
   "source": [
    "typeof getKeyValueMap"
   ]
  },
  {
   "cell_type": "code",
   "execution_count": null,
   "id": "5773c8bf",
   "metadata": {},
   "outputs": [],
   "source": [
    "tableDict = {\n",
    "    headers:['Supplier ID'],\n",
    "    mapping:{'GST REG NO:':'Supplier ID', 'GST Reg No.:':'Supplier ID', \n",
    "    'GST Reg.No:':'Supplier ID', 'ST Reg. No.':'Supplier ID', \n",
    "    'GST Registration No':'Supplier ID',\n",
    "    'GST Registration No.:':'Supplier ID',\n",
    "    'GST No :':'Supplier ID',\n",
    "    'GST REG.NO:':'Supplier ID',\n",
    "    'Company Reg No & GST Reg No:':'Supplier ID',\n",
    "    'GST REG NO.':'Supplier ID','GST Reg. No.':'Supplier ID',\n",
    "    'GST REG.NO':'Supplier ID'}\n",
    "}\n"
   ]
  }
 ],
 "metadata": {
  "kernelspec": {
   "display_name": "JavaScript (Node.js)",
   "language": "javascript",
   "name": "javascript"
  },
  "language_info": {
   "file_extension": ".js",
   "mimetype": "application/javascript",
   "name": "javascript",
   "version": "18.13.0"
  }
 },
 "nbformat": 4,
 "nbformat_minor": 5
}
