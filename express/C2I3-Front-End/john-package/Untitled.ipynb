{
 "cells": [
  {
   "cell_type": "code",
   "execution_count": 1,
   "id": "61fa2e0c",
   "metadata": {},
   "outputs": [],
   "source": [
    "const {  getTextractAnalysis,  extractForms,   extractTables,  \n",
    "    getTableResults, getFormResults,\n",
    "    fixTableHeaders,  fixFormHeaders, getKeyValueMap,  getKeyValueRelationship \n",
    "} = require('./index.js')\n"
   ]
  },
  {
   "cell_type": "code",
   "execution_count": 7,
   "id": "70fd8efd",
   "metadata": {
    "scrolled": true
   },
   "outputs": [
    {
     "name": "stdout",
     "output_type": "stream",
     "text": [
      "uploading 1690693738313_supplies.jpg\n"
     ]
    },
    {
     "data": {
      "text/plain": [
       "Promise { <pending> }"
      ]
     },
     "execution_count": 7,
     "metadata": {},
     "output_type": "execute_result"
    },
    {
     "name": "stdout",
     "output_type": "stream",
     "text": [
      "uploaded 1690693738313_supplies.jpg\n",
      "analysis done on 1690693738313_supplies.jpg\n",
      "Success. Object deleted.\n",
      "deleted the file 1690693738313_supplies.jpg\n",
      "Y-COOPER SUPPLIES PTE LTD\n"
     ]
    }
   ],
   "source": [
    "// data = getTextractAnalysis('./tipex.jpg')\n",
    "async function hi() {\n",
    "    data = await getTextractAnalysis('supplies.jpg')\n",
    "    console.log(data['Company Name'])\n",
    "}\n",
    "hi();"
   ]
  },
  {
   "cell_type": "code",
   "execution_count": 4,
   "id": "072e46f3",
   "metadata": {},
   "outputs": [
    {
     "data": {
      "text/plain": [
       "Promise {\n",
       "  {\n",
       "    '$metadata': {\n",
       "      httpStatusCode: 200,\n",
       "      requestId: '87c92673-b766-45fb-886e-61dd4f1350fe',\n",
       "      extendedRequestId: undefined,\n",
       "      cfId: undefined,\n",
       "      attempts: 1,\n",
       "      totalRetryDelay: 0\n",
       "    },\n",
       "    AnalyzeDocumentModelVersion: '1.0',\n",
       "    Blocks: [\n",
       "      [Object], [Object], [Object], [Object], [Object], [Object],\n",
       "      [Object], [Object], [Object], [Object], [Object], [Object],\n",
       "      [Object], [Object], [Object], [Object], [Object], [Object],\n",
       "      [Object], [Object], [Object], [Object], [Object], [Object],\n",
       "      [Object], [Object], [Object], [Object], [Object], [Object],\n",
       "      [Object], [Object], [Object], [Object], [Object], [Object],\n",
       "      [Object], [Object], [Object], [Object], [Object], [Object],\n",
       "      [Object], [Object], [Object], [Object], [Object], [Object],\n",
       "      [Object], [Object], [Object], [Object], [Object], [Object],\n",
       "      [Object], [Object], [Object], [Object], [Object], [Object],\n",
       "      [Object], [Object], [Object], [Object], [Object], [Object],\n",
       "      [Object], [Object], [Object], [Object], [Object], [Object],\n",
       "      [Object], [Object], [Object], [Object], [Object], [Object],\n",
       "      [Object], [Object], [Object], [Object], [Object], [Object],\n",
       "      [Object], [Object], [Object], [Object], [Object], [Object],\n",
       "      [Object], [Object], [Object], [Object], [Object], [Object],\n",
       "      [Object], [Object], [Object], [Object],\n",
       "      ... 303 more items\n",
       "    ],\n",
       "    DocumentMetadata: { Pages: 1 },\n",
       "    JobStatus: 'SUCCEEDED',\n",
       "    'Company Name': '41,971/20'\n",
       "  }\n",
       "}"
      ]
     },
     "execution_count": 4,
     "metadata": {},
     "output_type": "execute_result"
    }
   ],
   "source": [
    "data"
   ]
  }
 ],
 "metadata": {
  "kernelspec": {
   "display_name": "JavaScript (Node.js)",
   "language": "javascript",
   "name": "javascript"
  },
  "language_info": {
   "file_extension": ".js",
   "mimetype": "application/javascript",
   "name": "javascript",
   "version": "18.13.0"
  }
 },
 "nbformat": 4,
 "nbformat_minor": 5
}
