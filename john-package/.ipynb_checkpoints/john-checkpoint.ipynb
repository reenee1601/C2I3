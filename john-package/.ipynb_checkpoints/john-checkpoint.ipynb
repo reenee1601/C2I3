{
 "cells": [
  {
   "cell_type": "code",
   "execution_count": 1,
   "id": "6b445cca",
   "metadata": {},
   "outputs": [],
   "source": [
    "const {TextractClient, AnalyzeDocumentCommand, \n",
    "       StartDocumentAnalysisCommand, GetDocumentAnalysisCommand} = require(\"@aws-sdk/client-textract\");\n",
    "const { PutObjectCommand, DeleteObjectCommand, S3Client } = require(\"@aws-sdk/client-s3\");\n",
    "const { readFileSync, writeFileSync } = require (\"fs\");"
   ]
  },
  {
   "cell_type": "code",
   "execution_count": 4,
   "id": "6ceb3acc",
   "metadata": {},
   "outputs": [
    {
     "ename": "SyntaxError",
     "evalue": "Identifier 'uploadFile' has already been declared",
     "output_type": "error",
     "traceback": [
      "evalmachine.<anonymous>:1",
      "// START of Internal Functions",
      "^",
      "",
      "SyntaxError: Identifier 'uploadFile' has already been declared",
      "    at Script.runInThisContext (node:vm:128:12)",
      "    at Object.runInThisContext (node:vm:306:38)",
      "    at run ([eval]:1020:15)",
      "    at onRunRequest ([eval]:864:18)",
      "    at onMessage ([eval]:828:13)",
      "    at process.emit (node:events:513:28)",
      "    at emit (node:internal/child_process:944:14)",
      "    at process.processTicksAndRejections (node:internal/process/task_queues:83:21)"
     ]
    }
   ],
   "source": [
    "// START of Internal Functions\n",
    "\n",
    "const uploadFile = async (filePath) => {\n",
    "    // function to upload a file specified in the filepath to \n",
    "    // the ocr-scanning-invoices bucket\n",
    "    // Returns the file name of the file uploaded onto the s3 bucket\n",
    "    \n",
    "    const fileContent = readFileSync(filePath);\n",
    "    // extract filename from the filepath to upload onto the bucket\n",
    "    // add the current datetime so that uploaded files will be unique,\n",
    "    // even if the filename is the same\n",
    "    const key = new Date().getTime() + '_' + filePath.match(/[^\\\\/]+$/)[0];\n",
    "    \n",
    "    \n",
    "    const bucketParams = { Bucket: \"ocr-scanning-storage\", Key: key\n",
    "                            , Body:filecontent};\n",
    "    \n",
    "    const command = new PutObjectCommand(bucketParams);\n",
    "    \n",
    "    try {\n",
    "    console.log('uploading ' + key);\n",
    "    const response = await s3Client.send(command);\n",
    "    //console.log(response);\n",
    "    console.log('uploaded ' + key);\n",
    "  } catch (err) {\n",
    "    console.log('error');\n",
    "    console.error(err);\n",
    "    return null\n",
    "  }\n",
    "    \n",
    "    return key\n",
    "}\n",
    "\n",
    "const deleteFile = async (key, s3Client = null) => {\n",
    "//deleteFile = async (key, s3Client) => {\n",
    "\n",
    "    // function to delete a file with the given key name in the `ocr-scanning-storage` bucket\n",
    "\n",
    "    \n",
    "    const bucketParams = { Bucket: \"ocr-scanning-storage\", Key: key };\n",
    "      \n",
    "    try {\n",
    "        const data = await s3Client.send(new DeleteObjectCommand(bucketParams));\n",
    "        console.log(\"Success. Object deleted.\", data);\n",
    "        return data; // For unit tests.\n",
    "    } catch (err) {\n",
    "        console.log(\"Error\", err);\n",
    "        return null\n",
    "    }\n",
    "\n",
    "\n",
    "    \n",
    "}\n",
    "\n",
    "// END of Internal Functions"
   ]
  },
  {
   "cell_type": "code",
   "execution_count": 7,
   "id": "1419adc9",
   "metadata": {},
   "outputs": [
    {
     "data": {
      "text/plain": [
       "[AsyncFunction: deleteFile]"
      ]
     },
     "execution_count": 7,
     "metadata": {},
     "output_type": "execute_result"
    }
   ],
   "source": [
    "deleteFile = async (key, s3Client) => {\n",
    "\n",
    "    // function to delete a file with the given key name in the `ocr-scanning-storage` bucket\n",
    "\n",
    "    \n",
    "    const bucketParams = { Bucket: \"ocr-scanning-storage\", Key: key };\n",
    "      \n",
    "    try {\n",
    "        const data = await s3Client.send(new DeleteObjectCommand(bucketParams));\n",
    "        console.log(\"Success. Object deleted.\", data);\n",
    "        return data; // For unit tests.\n",
    "    } catch (err) {\n",
    "        console.log(\"Error\", err);\n",
    "        return null\n",
    "    }\n",
    "\n",
    "\n",
    "    \n",
    "}"
   ]
  },
  {
   "cell_type": "code",
   "execution_count": null,
   "id": "c2f9fe10",
   "metadata": {},
   "outputs": [],
   "source": [
    "const getTextractAnalysis = async (filepath) => {\n",
    "    // function to get the textract raw json data\n",
    "    // This function does 3 things\n",
    "    // 1. Upload file onto the `ocr-scanning-invoices` bucket\n",
    "    // 2. Run textract analysis on the uploaded file\n",
    "    // 3. Delete the file in the bucket\n",
    "    \n",
    "    // set up clients to be used\n",
    "    const s3Client = new S3Client();\n",
    "    \n",
    "    \n",
    "}"
   ]
  },
  {
   "cell_type": "code",
   "execution_count": 9,
   "id": "b95e6844",
   "metadata": {},
   "outputs": [
    {
     "data": {
      "text/plain": [
       "Promise { <pending> }"
      ]
     },
     "execution_count": 9,
     "metadata": {},
     "output_type": "execute_result"
    },
    {
     "name": "stdout",
     "output_type": "stream",
     "text": [
      "Success. Object deleted. {\n",
      "  '$metadata': {\n",
      "    httpStatusCode: 204,\n",
      "    requestId: 'FD1VCC17WKFTCPT2',\n",
      "    extendedRequestId: 'eXB1lF6L6CRTxW8olD0w/hYLdwOsGuJ0Q1+d4Lzes7Eq7bCQjsqLeHyQyVhHE97wC7m4oepspHaTQ/any+8lFw==',\n",
      "    cfId: undefined,\n",
      "    attempts: 1,\n",
      "    totalRetryDelay: 0\n",
      "  }\n",
      "}\n"
     ]
    }
   ],
   "source": [
    "s3Client = new S3Client();\n",
    "async function hi(){await deleteFile('test.jpg', s3Client);\n",
    "                   return 0}\n",
    "\n",
    "hi()"
   ]
  },
  {
   "cell_type": "code",
   "execution_count": null,
   "id": "ee91a7e1",
   "metadata": {},
   "outputs": [],
   "source": []
  }
 ],
 "metadata": {
  "kernelspec": {
   "display_name": "JavaScript (Node.js)",
   "language": "javascript",
   "name": "javascript"
  },
  "language_info": {
   "file_extension": ".js",
   "mimetype": "application/javascript",
   "name": "javascript",
   "version": "19.9.0"
  }
 },
 "nbformat": 4,
 "nbformat_minor": 5
}
