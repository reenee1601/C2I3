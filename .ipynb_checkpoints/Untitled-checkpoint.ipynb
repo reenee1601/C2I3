{
 "cells": [
  {
   "cell_type": "code",
   "execution_count": 1,
   "id": "6c66c73b",
   "metadata": {},
   "outputs": [
    {
     "data": {
      "text/plain": [
       "'./test/soa.pdf'"
      ]
     },
     "execution_count": 1,
     "metadata": {},
     "output_type": "execute_result"
    }
   ],
   "source": [
    "process.env['NODE_DEV'] = 'TEST';\n",
    "const { \n",
    "    getTextractAnalysis, extractForms, extractTables, \n",
    "    fixTableHeaders, fixFormHeaders, getTableResults ,\n",
    "        getKeyValueMap, getKeyValueRelationship\n",
    "\n",
    "} = require('./john-package/index.js');\n",
    "const { readFileSync, writeFileSync } = require (\"fs\");\n",
    "\n",
    "filepath = './test/soa.pdf';"
   ]
  },
  {
   "cell_type": "code",
   "execution_count": 2,
   "id": "6e7b8843",
   "metadata": {},
   "outputs": [
    {
     "name": "stdout",
     "output_type": "stream",
     "text": [
      "uploading 1690016425057_soa.pdf\n"
     ]
    },
    {
     "data": {
      "text/plain": [
       "Promise { <pending> }"
      ]
     },
     "execution_count": 2,
     "metadata": {},
     "output_type": "execute_result"
    },
    {
     "name": "stdout",
     "output_type": "stream",
     "text": [
      "uploaded 1690016425057_soa.pdf\n",
      "uploaded 1690016425057_soa.pdf\n",
      "analysis done\n",
      "Success. Object deleted.\n",
      "deleted the file\n"
     ]
    }
   ],
   "source": [
    "async function hi() {\n",
    "    data = await getTextractAnalysis(filepath);\n",
    "    return data\n",
    "}\n",
    "\n",
    "data = hi()\n"
   ]
  },
  {
   "cell_type": "code",
   "execution_count": 3,
   "id": "51429d58",
   "metadata": {},
   "outputs": [
    {
     "name": "stdout",
     "output_type": "stream",
     "text": [
      "uploaded 1690016238153_soa.pdf\n",
      "uploaded 1690016238153_soa.pdf\n",
      "analysis done\n",
      "Success. Object deleted.\n",
      "deleted the file\n"
     ]
    }
   ],
   "source": [
    "tableDict = {\n",
    "    headers:['Supplier ID'],\n",
    "    mapping:{'GST REG NO:':'Supplier ID', 'GST Reg No.:':'Supplier ID', \n",
    "    'GST Reg.No:':'Supplier ID', 'ST Reg. No.':'Supplier ID', \n",
    "    'GST Registration No':'Supplier ID',\n",
    "    'GST Registration No.:':'Supplier ID',\n",
    "    'GST No :':'Supplier ID',\n",
    "    'GST REG.NO:':'Supplier ID',\n",
    "    'Company Reg No & GST Reg No:':'Supplier ID',\n",
    "    'GST REG NO.':'Supplier ID','GST Reg. No.':'Supplier ID',\n",
    "    'GST REG.NO':'Supplier ID'}\n",
    "}\n"
   ]
  },
  {
   "cell_type": "code",
   "execution_count": 6,
   "id": "4a7e3988",
   "metadata": {},
   "outputs": [
    {
     "ename": "ReferenceError",
     "evalue": "getKeyValueMap is not defined",
     "output_type": "error",
     "traceback": [
      "evalmachine.<anonymous>:1",
      "a = getKeyValueMap(data.Blocks);",
      "^",
      "",
      "ReferenceError: getKeyValueMap is not defined",
      "    at evalmachine.<anonymous>:1:1",
      "    at Script.runInThisContext (node:vm:129:12)",
      "    at Object.runInThisContext (node:vm:307:38)",
      "    at run ([eval]:1020:15)",
      "    at onRunRequest ([eval]:864:18)",
      "    at onMessage ([eval]:828:13)",
      "    at process.emit (node:events:513:28)",
      "    at emit (node:internal/child_process:937:14)",
      "    at process.processTicksAndRejections (node:internal/process/task_queues:83:21)"
     ]
    }
   ],
   "source": [
    "a = getKeyValueMap(data.Blocks);\n",
    "keyValues = getKeyValueRelationship(a.keyMap, a.valueMap, a.blockMap);\n",
    "\n",
    "// tab = getTableResults(data)"
   ]
  }
 ],
 "metadata": {
  "kernelspec": {
   "display_name": "JavaScript (Node.js)",
   "language": "javascript",
   "name": "javascript"
  },
  "language_info": {
   "file_extension": ".js",
   "mimetype": "application/javascript",
   "name": "javascript",
   "version": "18.13.0"
  }
 },
 "nbformat": 4,
 "nbformat_minor": 5
}
